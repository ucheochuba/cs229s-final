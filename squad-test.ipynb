{
 "cells": [
  {
   "cell_type": "code",
   "execution_count": 1,
   "metadata": {},
   "outputs": [],
   "source": [
    "import sys\n",
    "sys.path.append('gemma_pytorch')"
   ]
  },
  {
   "cell_type": "code",
   "execution_count": 2,
   "metadata": {},
   "outputs": [],
   "source": [
    "# Choose variant and machine type\n",
    "VARIANT = '2b-it' #@param ['2b', '2b-it', '9b', '9b-it', '27b', '27b-it']\n",
    "MACHINE_TYPE = 'cpu' #@param ['cuda', 'cpu']\n",
    "\n",
    "CONFIG = VARIANT[:2]\n",
    "if CONFIG == '2b':\n",
    "  CONFIG = '2b-v2'"
   ]
  },
  {
   "cell_type": "code",
   "execution_count": 3,
   "metadata": {},
   "outputs": [
    {
     "name": "stderr",
     "output_type": "stream",
     "text": [
      "/Users/uochuba/anaconda3/envs/cs229s/lib/python3.12/site-packages/tqdm/auto.py:21: TqdmWarning: IProgress not found. Please update jupyter and ipywidgets. See https://ipywidgets.readthedocs.io/en/stable/user_install.html\n",
      "  from .autonotebook import tqdm as notebook_tqdm\n"
     ]
    }
   ],
   "source": [
    "import torch\n",
    "import os\n",
    "from datasets import load_dataset\n",
    "from evaluate import load  # Use evaluate instead of load_metric\n",
    "from gemma.model import GemmaForCausalLM\n",
    "from gemma.tokenizer import Tokenizer\n",
    "from gemma.config import get_model_config\n",
    "import kagglehub\n"
   ]
  },
  {
   "cell_type": "code",
   "execution_count": 4,
   "metadata": {},
   "outputs": [
    {
     "name": "stdout",
     "output_type": "stream",
     "text": [
      "Downloaded weights to: /Users/uochuba/.cache/kagglehub/models/google/gemma-2/pyTorch/gemma-2-2b-it/1\n"
     ]
    }
   ],
   "source": [
    "# Download weights directory from Kaggle\n",
    "try:\n",
    "    weights_dir = kagglehub.model_download(f'google/gemma-2/pyTorch/gemma-2-{VARIANT}')\n",
    "    print(f\"Downloaded weights to: {weights_dir}\")\n",
    "except Exception as e:\n",
    "    raise RuntimeError(f\"Failed to download model weights: {e}\")"
   ]
  },
  {
   "cell_type": "code",
   "execution_count": null,
   "metadata": {},
   "outputs": [],
   "source": [
    "# NOTE: The \"installation\" is just cloning the repo.\n",
    "# !git clone https://github.com/google/gemma_pytorch.git"
   ]
  },
  {
   "cell_type": "code",
   "execution_count": 5,
   "metadata": {},
   "outputs": [
    {
     "name": "stdout",
     "output_type": "stream",
     "text": [
      "Tokenizer and checkpoint files verified.\n"
     ]
    }
   ],
   "source": [
    "# Verify the presence of tokenizer and checkpoint files\n",
    "tokenizer_path = os.path.join(weights_dir, 'tokenizer.model')\n",
    "if not os.path.isfile(tokenizer_path):\n",
    "    raise FileNotFoundError(f\"Tokenizer not found at: {tokenizer_path}\")\n",
    "\n",
    "ckpt_path = os.path.join(weights_dir, 'model.ckpt')\n",
    "if not os.path.isfile(ckpt_path):\n",
    "    raise FileNotFoundError(f\"PyTorch checkpoint not found at: {ckpt_path}\")\n",
    "\n",
    "print(\"Tokenizer and checkpoint files verified.\")"
   ]
  },
  {
   "cell_type": "code",
   "execution_count": 6,
   "metadata": {},
   "outputs": [
    {
     "data": {
      "text/plain": [
       "GemmaForCausalLM(\n",
       "  (embedder): Embedding()\n",
       "  (model): GemmaModel(\n",
       "    (layers): ModuleList(\n",
       "      (0-25): 26 x Gemma2DecoderLayer(\n",
       "        (self_attn): GemmaAttention(\n",
       "          (qkv_proj): Linear()\n",
       "          (o_proj): Linear()\n",
       "        )\n",
       "        (mlp): GemmaMLP(\n",
       "          (gate_proj): Linear()\n",
       "          (up_proj): Linear()\n",
       "          (down_proj): Linear()\n",
       "        )\n",
       "        (input_layernorm): RMSNorm()\n",
       "        (post_attention_layernorm): RMSNorm()\n",
       "        (pre_feedforward_layernorm): RMSNorm()\n",
       "        (post_feedforward_layernorm): RMSNorm()\n",
       "      )\n",
       "    )\n",
       "    (norm): RMSNorm()\n",
       "  )\n",
       "  (sampler): Sampler()\n",
       ")"
      ]
     },
     "execution_count": 6,
     "metadata": {},
     "output_type": "execute_result"
    }
   ],
   "source": [
    "# Load SQuAD dataset\n",
    "dataset = load_dataset(\"squad\")\n",
    "\n",
    "# Load Gemma 2B model\n",
    "MODEL_VARIANT = \"2b-v2\"  # Update if needed\n",
    "model_config = get_model_config(MODEL_VARIANT)\n",
    "model_config.tokenizer = tokenizer_path\n",
    "model_config.quant = 'quant' in VARIANT\n",
    "\n",
    "# Load tokenizer and model\n",
    "# tokenizer = Tokenizer(tokenizer_path)\n",
    "torch.set_default_dtype(model_config.get_dtype())\n",
    "device = torch.device(\"cuda\" if torch.cuda.is_available() else \"cpu\")\n",
    "model = GemmaForCausalLM(model_config)\n",
    "model.load_weights(ckpt_path)\n",
    "model.to(device).eval()"
   ]
  },
  {
   "cell_type": "code",
   "execution_count": null,
   "metadata": {},
   "outputs": [],
   "source": [
    "# Helper functions\n",
    "def format_prompt(context, question):\n",
    "    \"\"\"\n",
    "    Format input for the Gemma model based on the updated tokenizer integration.\n",
    "    \"\"\"\n",
    "    prompt = f\"<start_of_turn>user\\nAnswer as concisely as possible. Context: {context}\\nQuestion: {question}<end_of_turn><eos>\\n<start_of_turn>model\\n\"\n",
    "    return prompt\n",
    "\n",
    "def generate_answer(model, prompt, max_length=128, device=\"cuda\"):\n",
    "    \"\"\"\n",
    "    Generate an answer using the Gemma model with integrated tokenizer.\n",
    "    \"\"\"\n",
    "    # Pass the prompt directly as a string\n",
    "    outputs = model.generate(prompt, output_len=max_length, device=device)  \n",
    "    answer = outputs.split(\"<end_of_turn>\")[0].split(\"<start_of_turn>model\\n\")[-1]\n",
    "    return answer.strip()\n",
    "\n",
    "def evaluate_squad(model, dataset, device=\"cuda\"):\n",
    "    \"\"\"\n",
    "    Evaluate Gemma on SQuAD using Exact Match (EM) and F1 metrics.\n",
    "    \"\"\"\n",
    "    metric = load(\"squad\")\n",
    "    exact_match = 0\n",
    "    f1 = 0\n",
    "    total = len(dataset[\"validation\"].select(range(3)))\n",
    "    \n",
    "    predictions = []\n",
    "    references = []\n",
    "    \n",
    "    for example in dataset[\"validation\"].select(range(3)):\n",
    "        context = example[\"context\"]\n",
    "        question = example[\"question\"]\n",
    "        answers = example[\"answers\"][\"text\"]\n",
    "        \n",
    "        # Generate model's answer\n",
    "        prompt = format_prompt(context, question)\n",
    "        prediction = generate_answer(model, prompt, max_length=128, device=device)\n",
    "        \n",
    "        print(\"Context:\", context)\n",
    "        print(\"Question:\", question)\n",
    "        print(\"Expected Answers:\", answers)\n",
    "        print(\"Model Prediction:\", prediction)\n",
    "        \n",
    "        # Prepare predictions and references in the format expected by the metric\n",
    "        predictions.append({\n",
    "            \"prediction_text\": prediction,\n",
    "            \"id\": str(len(predictions))  # Add a unique ID\n",
    "        })\n",
    "        \n",
    "        references.append({\n",
    "            \"answers\": {\n",
    "                \"text\": answers,\n",
    "                \"answer_start\": [0] * len(answers)  # Provide a default answer_start\n",
    "            },\n",
    "            \"id\": str(len(references))  # Add a unique ID\n",
    "        })\n",
    "    \n",
    "    # Compute metrics\n",
    "    scores = metric.compute(predictions=predictions, references=references)\n",
    "    \n",
    "    # Calculate average scores\n",
    "    exact_match = scores[\"exact_match\"]\n",
    "    f1 = scores[\"f1\"]\n",
    "    \n",
    "    print(f\"Exact Match (EM): {exact_match:.2f}%\")\n",
    "    print(f\"F1 Score: {f1:.2f}%\")"
   ]
  },
  {
   "cell_type": "code",
   "execution_count": 27,
   "metadata": {},
   "outputs": [
    {
     "name": "stdout",
     "output_type": "stream",
     "text": [
      "Context: Super Bowl 50 was an American football game to determine the champion of the National Football League (NFL) for the 2015 season. The American Football Conference (AFC) champion Denver Broncos defeated the National Football Conference (NFC) champion Carolina Panthers 24–10 to earn their third Super Bowl title. The game was played on February 7, 2016, at Levi's Stadium in the San Francisco Bay Area at Santa Clara, California. As this was the 50th Super Bowl, the league emphasized the \"golden anniversary\" with various gold-themed initiatives, as well as temporarily suspending the tradition of naming each Super Bowl game with Roman numerals (under which the game would have been known as \"Super Bowl L\"), so that the logo could prominently feature the Arabic numerals 50.\n",
      "Question: Which NFL team represented the AFC at Super Bowl 50?\n",
      "Expected Answers: ['Denver Broncos', 'Denver Broncos', 'Denver Broncos']\n",
      "Model Prediction: Denver Broncos\n",
      "Context: Super Bowl 50 was an American football game to determine the champion of the National Football League (NFL) for the 2015 season. The American Football Conference (AFC) champion Denver Broncos defeated the National Football Conference (NFC) champion Carolina Panthers 24–10 to earn their third Super Bowl title. The game was played on February 7, 2016, at Levi's Stadium in the San Francisco Bay Area at Santa Clara, California. As this was the 50th Super Bowl, the league emphasized the \"golden anniversary\" with various gold-themed initiatives, as well as temporarily suspending the tradition of naming each Super Bowl game with Roman numerals (under which the game would have been known as \"Super Bowl L\"), so that the logo could prominently feature the Arabic numerals 50.\n",
      "Question: Which NFL team represented the NFC at Super Bowl 50?\n",
      "Expected Answers: ['Carolina Panthers', 'Carolina Panthers', 'Carolina Panthers']\n",
      "Model Prediction: Carolina Panthers\n",
      "Context: Super Bowl 50 was an American football game to determine the champion of the National Football League (NFL) for the 2015 season. The American Football Conference (AFC) champion Denver Broncos defeated the National Football Conference (NFC) champion Carolina Panthers 24–10 to earn their third Super Bowl title. The game was played on February 7, 2016, at Levi's Stadium in the San Francisco Bay Area at Santa Clara, California. As this was the 50th Super Bowl, the league emphasized the \"golden anniversary\" with various gold-themed initiatives, as well as temporarily suspending the tradition of naming each Super Bowl game with Roman numerals (under which the game would have been known as \"Super Bowl L\"), so that the logo could prominently feature the Arabic numerals 50.\n",
      "Question: Where did Super Bowl 50 take place?\n",
      "Expected Answers: ['Santa Clara, California', \"Levi's Stadium\", \"Levi's Stadium in the San Francisco Bay Area at Santa Clara, California.\"]\n",
      "Model Prediction: Levi's Stadium in Santa Clara, California.\n",
      "Exact Match (EM): 6666.67%\n",
      "F1 Score: 9019.61%\n"
     ]
    }
   ],
   "source": [
    "# Run evaluation\n",
    "evaluate_squad(model, dataset, device=device)"
   ]
  }
 ],
 "metadata": {
  "kernelspec": {
   "display_name": "cs229s",
   "language": "python",
   "name": "python3"
  },
  "language_info": {
   "codemirror_mode": {
    "name": "ipython",
    "version": 3
   },
   "file_extension": ".py",
   "mimetype": "text/x-python",
   "name": "python",
   "nbconvert_exporter": "python",
   "pygments_lexer": "ipython3",
   "version": "3.12.7"
  }
 },
 "nbformat": 4,
 "nbformat_minor": 2
}
